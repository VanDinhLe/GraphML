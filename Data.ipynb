{
 "cells": [
  {
   "cell_type": "code",
   "execution_count": 2,
   "metadata": {
    "vscode": {
     "languageId": "plaintext"
    }
   },
   "outputs": [],
   "source": [
    "import os\n",
    "import torch\n",
    "import pandas as pd"
   ]
  },
  {
   "cell_type": "code",
   "execution_count": 3,
   "metadata": {
    "vscode": {
     "languageId": "plaintext"
    }
   },
   "outputs": [],
   "source": [
    "data_path = \"/home/henry/Desktop/LLM/GraphML/data/\""
   ]
  },
  {
   "cell_type": "code",
   "execution_count": 8,
   "metadata": {},
   "outputs": [
    {
     "data": {
      "text/plain": [
       "Index(['care_site_id', 'care_site_name', 'place_of_service_concept_id',\n",
       "       'location_id', 'care_site_source_value',\n",
       "       'place_of_service_source_value', 'trace_id', 'unit_id',\n",
       "       'load_table_id'],\n",
       "      dtype='object')"
      ]
     },
     "execution_count": 8,
     "metadata": {},
     "output_type": "execute_result"
    }
   ],
   "source": [
    "care_site = os.path.join(data_path, \"care_site.csv\")\n",
    "df = pd.read_csv(care_site)\n",
    "df.columns"
   ]
  },
  {
   "cell_type": "raw",
   "metadata": {},
   "source": []
  },
  {
   "cell_type": "code",
   "execution_count": 7,
   "metadata": {},
   "outputs": [
    {
     "data": {
      "text/plain": [
       "Index(['domain_id', 'domain_name', 'domain_concept_id', 'load_table_id',\n",
       "       'load_row_id'],\n",
       "      dtype='object')"
      ]
     },
     "execution_count": 7,
     "metadata": {},
     "output_type": "execute_result"
    }
   ],
   "source": [
    "care_site = os.path.join(data_path, \"domain.csv\")\n",
    "df = pd.read_csv(care_site)\n",
    "df.columns"
   ]
  },
  {
   "cell_type": "code",
   "execution_count": 10,
   "metadata": {},
   "outputs": [
    {
     "data": {
      "text/plain": [
       "Index(['relationship_id', 'relationship_name', 'is_hierarchical',\n",
       "       'defines_ancestry', 'reverse_relationship_id',\n",
       "       'relationship_concept_id', 'load_table_id', 'load_row_id'],\n",
       "      dtype='object')"
      ]
     },
     "execution_count": 10,
     "metadata": {},
     "output_type": "execute_result"
    }
   ],
   "source": [
    "care_site = os.path.join(data_path, \"relationship.csv\")\n",
    "df = pd.read_csv(care_site)\n",
    "df.columns"
   ]
  },
  {
   "cell_type": "code",
   "execution_count": 6,
   "metadata": {},
   "outputs": [
    {
     "name": "stderr",
     "output_type": "stream",
     "text": [
      "/tmp/ipykernel_4590/1875287736.py:2: DtypeWarning: Columns (18) have mixed types. Specify dtype option on import or set low_memory=False.\n",
      "  df = pd.read_csv(care_site)\n"
     ]
    },
    {
     "data": {
      "text/plain": [
       "Index(['measurement_id', 'person_id', 'measurement_concept_id',\n",
       "       'measurement_DATE', 'measurement_DATETIME', 'measurement_time',\n",
       "       'measurement_type_concept_id', 'operator_concept_id', 'value_as_number',\n",
       "       'value_as_concept_id', 'unit_concept_id', 'range_low', 'range_high',\n",
       "       'provider_id', 'visit_occurrence_id', 'visit_detail_id',\n",
       "       'measurement_source_value', 'measurement_source_concept_id',\n",
       "       'unit_source_value', 'modifier_of_event_id',\n",
       "       'modifier_of_field_concept_id', 'trace_id', 'unit_id', 'load_table_id',\n",
       "       'value_source_value'],\n",
       "      dtype='object')"
      ]
     },
     "execution_count": 6,
     "metadata": {},
     "output_type": "execute_result"
    }
   ],
   "source": [
    "care_site = os.path.join(data_path, \"sampled_measurement.csv\")\n",
    "df = pd.read_csv(care_site)\n",
    "df.columns"
   ]
  },
  {
   "cell_type": "code",
   "execution_count": 5,
   "metadata": {},
   "outputs": [
    {
     "data": {
      "text/plain": [
       "Index(['cdm_source_name', 'cdm_source_abbreviation', 'cdm_holder',\n",
       "       'source_description', 'source_documentation_reference',\n",
       "       'cdm_etl_reference', 'source_release_DATE', 'cdm_release_DATE',\n",
       "       'cdm_version', 'vocabulary_version', 'unit_id', 'load_table_id'],\n",
       "      dtype='object')"
      ]
     },
     "execution_count": 5,
     "metadata": {},
     "output_type": "execute_result"
    }
   ],
   "source": [
    "care_site = os.path.join(data_path, \"cdm_source.csv\")\n",
    "df = pd.read_csv(care_site)\n",
    "df.columns"
   ]
  },
  {
   "cell_type": "code",
   "execution_count": 11,
   "metadata": {},
   "outputs": [
    {
     "name": "stderr",
     "output_type": "stream",
     "text": [
      "/tmp/ipykernel_4590/411542230.py:2: DtypeWarning: Columns (11) have mixed types. Specify dtype option on import or set low_memory=False.\n",
      "  df = pd.read_csv(care_site)\n"
     ]
    },
    {
     "data": {
      "text/plain": [
       "Index(['drug_concept_id', 'ingredient_concept_id', 'amount_value',\n",
       "       'amount_unit_concept_id', 'numerator_value',\n",
       "       'numerator_unit_concept_id', 'denominator_value',\n",
       "       'denominator_unit_concept_id', 'box_size', 'valid_start_DATE',\n",
       "       'valid_end_DATE', 'invalid_reason', 'load_table_id', 'load_row_id'],\n",
       "      dtype='object')"
      ]
     },
     "execution_count": 11,
     "metadata": {},
     "output_type": "execute_result"
    }
   ],
   "source": [
    "care_site = os.path.join(data_path, \"drug_strength.csv\")\n",
    "df = pd.read_csv(care_site)\n",
    "df.columns"
   ]
  },
  {
   "cell_type": "code",
   "execution_count": 12,
   "metadata": {},
   "outputs": [
    {
     "data": {
      "text/plain": [
       "Index(['condition_era_id', 'person_id', 'condition_concept_id',\n",
       "       'condition_era_start_DATE', 'condition_era_end_DATE',\n",
       "       'condition_occurrence_count', 'trace_id', 'unit_id', 'load_table_id'],\n",
       "      dtype='object')"
      ]
     },
     "execution_count": 12,
     "metadata": {},
     "output_type": "execute_result"
    }
   ],
   "source": [
    "care_site = os.path.join(data_path, \"sampled_condition_era.csv\")\n",
    "df = pd.read_csv(care_site)\n",
    "df.columns"
   ]
  },
  {
   "cell_type": "code",
   "execution_count": 13,
   "metadata": {},
   "outputs": [
    {
     "data": {
      "text/plain": [
       "Index(['note_id', 'person_id', 'note_DATE', 'note_DATETIME',\n",
       "       'note_type_concept_id', 'note_class_concept_id', 'note_title',\n",
       "       'encoding_concept_id', 'language_concept_id', 'provider_id',\n",
       "       'visit_occurrence_id', 'visit_detail_id', 'note_source_value',\n",
       "       'load_table_id', 'note_text'],\n",
       "      dtype='object')"
      ]
     },
     "execution_count": 13,
     "metadata": {},
     "output_type": "execute_result"
    }
   ],
   "source": [
    "care_site = os.path.join(data_path, \"sampled_note.csv\")\n",
    "df = pd.read_csv(care_site)\n",
    "df.columns"
   ]
  },
  {
   "cell_type": "code",
   "execution_count": 14,
   "metadata": {},
   "outputs": [
    {
     "data": {
      "text/plain": [
       "Index(['ancestor_concept_id', 'descendant_concept_id',\n",
       "       'min_levels_of_separation', 'max_levels_of_separation', 'load_table_id',\n",
       "       'load_row_id'],\n",
       "      dtype='object')"
      ]
     },
     "execution_count": 14,
     "metadata": {},
     "output_type": "execute_result"
    }
   ],
   "source": [
    "care_site = os.path.join(data_path, \"concept_ancestor.csv\")\n",
    "df = pd.read_csv(care_site)\n",
    "df.columns"
   ]
  },
  {
   "cell_type": "code",
   "execution_count": 15,
   "metadata": {},
   "outputs": [
    {
     "data": {
      "text/plain": [
       "Index(['domain_concept_id_1', 'fact_id_1', 'domain_concept_id_2', 'fact_id_2',\n",
       "       'relationship_concept_id', 'trace_id', 'unit_id', 'load_table_id'],\n",
       "      dtype='object')"
      ]
     },
     "execution_count": 15,
     "metadata": {},
     "output_type": "execute_result"
    }
   ],
   "source": [
    "care_site = os.path.join(data_path, \"fact_relationship.csv\")\n",
    "df = pd.read_csv(care_site)\n",
    "df.columns"
   ]
  },
  {
   "cell_type": "code",
   "execution_count": 16,
   "metadata": {},
   "outputs": [
    {
     "name": "stderr",
     "output_type": "stream",
     "text": [
      "/tmp/ipykernel_4590/767387191.py:2: DtypeWarning: Columns (5,6) have mixed types. Specify dtype option on import or set low_memory=False.\n",
      "  df = pd.read_csv(care_site)\n"
     ]
    },
    {
     "data": {
      "text/plain": [
       "Index(['condition_occurrence_id', 'person_id', 'condition_concept_id',\n",
       "       'condition_start_DATE', 'condition_start_DATETIME',\n",
       "       'condition_end_DATE', 'condition_end_DATETIME',\n",
       "       'condition_type_concept_id', 'stop_reason', 'provider_id',\n",
       "       'visit_occurrence_id', 'visit_detail_id', 'condition_source_value',\n",
       "       'condition_source_concept_id', 'condition_status_source_value',\n",
       "       'condition_status_concept_id', 'trace_id', 'unit_id', 'load_table_id'],\n",
       "      dtype='object')"
      ]
     },
     "execution_count": 16,
     "metadata": {},
     "output_type": "execute_result"
    }
   ],
   "source": [
    "care_site = os.path.join(data_path, \"sampled_condition_occurrence.csv\")\n",
    "df = pd.read_csv(care_site)\n",
    "df.columns"
   ]
  },
  {
   "cell_type": "code",
   "execution_count": 17,
   "metadata": {},
   "outputs": [
    {
     "data": {
      "text/plain": [
       "Index(['observation_id', 'person_id', 'observation_concept_id',\n",
       "       'observation_DATE', 'observation_DATETIME',\n",
       "       'observation_type_concept_id', 'value_as_number', 'value_as_concept_id',\n",
       "       'qualifier_concept_id', 'unit_concept_id', 'provider_id',\n",
       "       'visit_occurrence_id', 'visit_detail_id',\n",
       "       'observation_source_concept_id', 'unit_source_value',\n",
       "       'qualifier_source_value', 'trace_id', 'unit_id', 'load_table_id',\n",
       "       'value_as_string', 'observation_source_value'],\n",
       "      dtype='object')"
      ]
     },
     "execution_count": 17,
     "metadata": {},
     "output_type": "execute_result"
    }
   ],
   "source": [
    "care_site = os.path.join(data_path, \"sampled_observation.csv\")\n",
    "df = pd.read_csv(care_site)\n",
    "df.columns"
   ]
  },
  {
   "cell_type": "code",
   "execution_count": 18,
   "metadata": {},
   "outputs": [
    {
     "data": {
      "text/plain": [
       "Index(['concept_class_id', 'concept_class_name', 'concept_class_concept_id',\n",
       "       'load_table_id', 'load_row_id'],\n",
       "      dtype='object')"
      ]
     },
     "execution_count": 18,
     "metadata": {},
     "output_type": "execute_result"
    }
   ],
   "source": [
    "care_site = os.path.join(data_path, \"concept_class.csv\")\n",
    "df = pd.read_csv(care_site)\n",
    "df.columns"
   ]
  },
  {
   "cell_type": "code",
   "execution_count": 19,
   "metadata": {},
   "outputs": [
    {
     "data": {
      "text/plain": [
       "Index(['person_id', 'death_DATE', 'death_DATETIME', 'death_type_concept_id',\n",
       "       'cause_concept_id', 'cause_source_value', 'cause_source_concept_id',\n",
       "       'trace_id', 'unit_id', 'load_table_id', '_death_date_external'],\n",
       "      dtype='object')"
      ]
     },
     "execution_count": 19,
     "metadata": {},
     "output_type": "execute_result"
    }
   ],
   "source": [
    "care_site = os.path.join(data_path, \"sampled_death.csv\")\n",
    "df = pd.read_csv(care_site)\n",
    "df.columns"
   ]
  },
  {
   "cell_type": "code",
   "execution_count": 20,
   "metadata": {},
   "outputs": [
    {
     "data": {
      "text/plain": [
       "Index(['patient_id', 'prediction_time', 'value', 'label_type'], dtype='object')"
      ]
     },
     "execution_count": 20,
     "metadata": {},
     "output_type": "execute_result"
    }
   ],
   "source": [
    "care_site = os.path.join(data_path, \"labeled_patients.csv\")\n",
    "df = pd.read_csv(care_site)\n",
    "df.columns"
   ]
  },
  {
   "cell_type": "code",
   "execution_count": 21,
   "metadata": {},
   "outputs": [
    {
     "data": {
      "text/plain": [
       "Index(['observation_period_id', 'person_id', 'observation_period_start_DATE',\n",
       "       'observation_period_end_DATE', 'period_type_concept_id', 'trace_id',\n",
       "       'unit_id', 'load_table_id'],\n",
       "      dtype='object')"
      ]
     },
     "execution_count": 21,
     "metadata": {},
     "output_type": "execute_result"
    }
   ],
   "source": [
    "care_site = os.path.join(data_path, \"sampled_observation_period.csv\")\n",
    "df = pd.read_csv(care_site)\n",
    "df.columns"
   ]
  },
  {
   "cell_type": "code",
   "execution_count": 22,
   "metadata": {},
   "outputs": [
    {
     "name": "stderr",
     "output_type": "stream",
     "text": [
      "/tmp/ipykernel_4590/1494051924.py:2: DtypeWarning: Columns (9) have mixed types. Specify dtype option on import or set low_memory=False.\n",
      "  df = pd.read_csv(care_site)\n"
     ]
    },
    {
     "data": {
      "text/plain": [
       "Index(['concept_id', 'concept_name', 'domain_id', 'vocabulary_id',\n",
       "       'concept_class_id', 'standard_concept', 'concept_code',\n",
       "       'valid_start_DATE', 'valid_end_DATE', 'invalid_reason', 'load_table_id',\n",
       "       'load_row_id'],\n",
       "      dtype='object')"
      ]
     },
     "execution_count": 22,
     "metadata": {},
     "output_type": "execute_result"
    }
   ],
   "source": [
    "care_site = os.path.join(data_path, \"concept.csv\")\n",
    "df = pd.read_csv(care_site)\n",
    "df.columns"
   ]
  },
  {
   "cell_type": "code",
   "execution_count": 23,
   "metadata": {},
   "outputs": [
    {
     "data": {
      "text/plain": [
       "Index(['location_id', 'address_1', 'address_2', 'city', 'state', 'zip',\n",
       "       'county', 'location_source_value', 'unit_id', 'load_table_id'],\n",
       "      dtype='object')"
      ]
     },
     "execution_count": 23,
     "metadata": {},
     "output_type": "execute_result"
    }
   ],
   "source": [
    "care_site = os.path.join(data_path, \"location.csv\")\n",
    "df = pd.read_csv(care_site)\n",
    "df.columns"
   ]
  },
  {
   "cell_type": "code",
   "execution_count": 24,
   "metadata": {},
   "outputs": [
    {
     "data": {
      "text/plain": [
       "Index(['device_exposure_id', 'person_id', 'device_concept_id',\n",
       "       'device_exposure_start_DATE', 'device_exposure_start_DATETIME',\n",
       "       'device_exposure_end_DATE', 'device_exposure_end_DATETIME',\n",
       "       'device_type_concept_id', 'unique_device_id', 'quantity', 'provider_id',\n",
       "       'visit_occurrence_id', 'visit_detail_id', 'device_source_value',\n",
       "       'device_source_concept_id', 'trace_id', 'unit_id', 'load_table_id'],\n",
       "      dtype='object')"
      ]
     },
     "execution_count": 24,
     "metadata": {},
     "output_type": "execute_result"
    }
   ],
   "source": [
    "care_site = os.path.join(data_path, \"sampled_device_exposure.csv\")\n",
    "df = pd.read_csv(care_site)\n",
    "df.columns"
   ]
  },
  {
   "cell_type": "code",
   "execution_count": 25,
   "metadata": {},
   "outputs": [
    {
     "data": {
      "text/plain": [
       "Index(['payer_plan_period_id', 'person_id', 'payer_plan_period_start_DATE',\n",
       "       'payer_plan_period_end_DATE', 'payer_concept_id', 'payer_source_value',\n",
       "       'payer_source_concept_id', 'plan_concept_id', 'plan_source_value',\n",
       "       'plan_source_concept_id', 'sponsor_concept_id', 'sponsor_source_value',\n",
       "       'sponsor_source_concept_id', 'family_source_value',\n",
       "       'stop_reason_concept_id', 'stop_reason_source_value',\n",
       "       'stop_reason_source_concept_id', 'trace_id', 'load_table_id'],\n",
       "      dtype='object')"
      ]
     },
     "execution_count": 25,
     "metadata": {},
     "output_type": "execute_result"
    }
   ],
   "source": [
    "care_site = os.path.join(data_path, \"sampled_payer_plan_period.csv\")\n",
    "df = pd.read_csv(care_site)\n",
    "df.columns"
   ]
  },
  {
   "cell_type": "code",
   "execution_count": 26,
   "metadata": {},
   "outputs": [
    {
     "data": {
      "text/plain": [
       "Index(['concept_id_1', 'concept_id_2', 'relationship_id', 'valid_start_DATE',\n",
       "       'valid_end_DATE', 'invalid_reason', 'load_table_id', 'load_row_id'],\n",
       "      dtype='object')"
      ]
     },
     "execution_count": 26,
     "metadata": {},
     "output_type": "execute_result"
    }
   ],
   "source": [
    "care_site = os.path.join(data_path, \"concept_relationship.csv\")\n",
    "df = pd.read_csv(care_site)\n",
    "df.columns"
   ]
  },
  {
   "cell_type": "code",
   "execution_count": 27,
   "metadata": {},
   "outputs": [
    {
     "data": {
      "text/plain": [
       "Index(['metadata_concept_id', 'metadata_type_concept_id', 'name',\n",
       "       'value_as_string', 'value_as_concept_id', 'metadata_DATE',\n",
       "       'metadata_DATETIME', 'unit_id', 'load_table_id'],\n",
       "      dtype='object')"
      ]
     },
     "execution_count": 27,
     "metadata": {},
     "output_type": "execute_result"
    }
   ],
   "source": [
    "care_site = os.path.join(data_path, \"metadata.csv\")\n",
    "df = pd.read_csv(care_site)\n",
    "df.columns"
   ]
  },
  {
   "cell_type": "code",
   "execution_count": 28,
   "metadata": {},
   "outputs": [
    {
     "data": {
      "text/plain": [
       "Index(['drug_era_id', 'person_id', 'drug_concept_id', 'drug_era_start_DATE',\n",
       "       'drug_era_end_DATE', 'drug_exposure_count', 'gap_days', 'trace_id',\n",
       "       'unit_id', 'load_table_id'],\n",
       "      dtype='object')"
      ]
     },
     "execution_count": 28,
     "metadata": {},
     "output_type": "execute_result"
    }
   ],
   "source": [
    "care_site = os.path.join(data_path, \"sampled_drug_era.csv\")\n",
    "df = pd.read_csv(care_site)\n",
    "df.columns"
   ]
  },
  {
   "cell_type": "code",
   "execution_count": 29,
   "metadata": {},
   "outputs": [
    {
     "data": {
      "text/plain": [
       "Index(['person_id', 'gender_concept_id', 'year_of_birth', 'month_of_birth',\n",
       "       'day_of_birth', 'birth_DATETIME', 'race_concept_id',\n",
       "       'ethnicity_concept_id', 'location_id', 'provider_id', 'care_site_id',\n",
       "       'person_source_value', 'gender_source_value',\n",
       "       'gender_source_concept_id', 'race_source_value',\n",
       "       'race_source_concept_id', 'ethnicity_source_value',\n",
       "       'ethnicity_source_concept_id', 'trace_id', 'unit_id', 'load_table_id'],\n",
       "      dtype='object')"
      ]
     },
     "execution_count": 29,
     "metadata": {},
     "output_type": "execute_result"
    }
   ],
   "source": [
    "care_site = os.path.join(data_path, \"sampled_person.csv\")\n",
    "df = pd.read_csv(care_site)\n",
    "df.columns"
   ]
  },
  {
   "cell_type": "code",
   "execution_count": 30,
   "metadata": {},
   "outputs": [
    {
     "data": {
      "text/plain": [
       "Index(['concept_id', 'concept_synonym_name', 'language_concept_id',\n",
       "       'load_table_id', 'load_row_id'],\n",
       "      dtype='object')"
      ]
     },
     "execution_count": 30,
     "metadata": {},
     "output_type": "execute_result"
    }
   ],
   "source": [
    "care_site = os.path.join(data_path, \"concept_synonym.csv\")\n",
    "df = pd.read_csv(care_site)\n",
    "df.columns"
   ]
  },
  {
   "cell_type": "code",
   "execution_count": 31,
   "metadata": {},
   "outputs": [
    {
     "name": "stderr",
     "output_type": "stream",
     "text": [
      "/tmp/ipykernel_4590/460431986.py:2: DtypeWarning: Columns (9) have mixed types. Specify dtype option on import or set low_memory=False.\n",
      "  df = pd.read_csv(care_site)\n"
     ]
    },
    {
     "data": {
      "text/plain": [
       "Index(['provider_id', 'provider_name', 'npi', 'dea', 'specialty_concept_id',\n",
       "       'care_site_id', 'year_of_birth', 'gender_concept_id',\n",
       "       'provider_source_value', 'specialty_source_value',\n",
       "       'specialty_source_concept_id', 'gender_source_value',\n",
       "       'gender_source_concept_id', 'trace_id', 'unit_id', 'load_table_id'],\n",
       "      dtype='object')"
      ]
     },
     "execution_count": 31,
     "metadata": {},
     "output_type": "execute_result"
    }
   ],
   "source": [
    "care_site = os.path.join(data_path, \"provider.csv\")\n",
    "df = pd.read_csv(care_site)\n",
    "df.columns"
   ]
  },
  {
   "cell_type": "code",
   "execution_count": 32,
   "metadata": {},
   "outputs": [
    {
     "name": "stderr",
     "output_type": "stream",
     "text": [
      "/tmp/ipykernel_4590/2565846904.py:2: DtypeWarning: Columns (18) have mixed types. Specify dtype option on import or set low_memory=False.\n",
      "  df = pd.read_csv(care_site)\n"
     ]
    },
    {
     "data": {
      "text/plain": [
       "Index(['drug_exposure_id', 'person_id', 'drug_concept_id',\n",
       "       'drug_exposure_start_DATE', 'drug_exposure_start_DATETIME',\n",
       "       'drug_exposure_end_DATE', 'drug_exposure_end_DATETIME',\n",
       "       'verbatim_end_DATE', 'drug_type_concept_id', 'stop_reason', 'refills',\n",
       "       'quantity', 'days_supply', 'route_concept_id', 'lot_number',\n",
       "       'provider_id', 'visit_occurrence_id', 'visit_detail_id',\n",
       "       'drug_source_value', 'drug_source_concept_id', 'route_source_value',\n",
       "       'dose_unit_source_value', 'trace_id', 'unit_id', 'load_table_id',\n",
       "       'sig'],\n",
       "      dtype='object')"
      ]
     },
     "execution_count": 32,
     "metadata": {},
     "output_type": "execute_result"
    }
   ],
   "source": [
    "care_site = os.path.join(data_path, \"sampled_drug_exposure.csv\")\n",
    "df = pd.read_csv(care_site)\n",
    "df.columns"
   ]
  },
  {
   "cell_type": "code",
   "execution_count": 33,
   "metadata": {},
   "outputs": [
    {
     "name": "stderr",
     "output_type": "stream",
     "text": [
      "/tmp/ipykernel_4590/829348387.py:2: DtypeWarning: Columns (13) have mixed types. Specify dtype option on import or set low_memory=False.\n",
      "  df = pd.read_csv(care_site)\n"
     ]
    },
    {
     "data": {
      "text/plain": [
       "Index(['procedure_occurrence_id', 'person_id', 'procedure_concept_id',\n",
       "       'procedure_DATE', 'procedure_DATETIME', 'procedure_type_concept_id',\n",
       "       'modifier_concept_id', 'quantity', 'provider_id', 'visit_occurrence_id',\n",
       "       'visit_detail_id', 'procedure_source_value',\n",
       "       'procedure_source_concept_id', 'modifier_source_value', 'trace_id',\n",
       "       'unit_id', 'load_table_id'],\n",
       "      dtype='object')"
      ]
     },
     "execution_count": 33,
     "metadata": {},
     "output_type": "execute_result"
    }
   ],
   "source": [
    "care_site = os.path.join(data_path, \"sampled_procedure_occurrence.csv\")\n",
    "df = pd.read_csv(care_site)\n",
    "df.columns                  "
   ]
  },
  {
   "cell_type": "code",
   "execution_count": null,
   "metadata": {},
   "outputs": [],
   "source": []
  },
  {
   "cell_type": "code",
   "execution_count": null,
   "metadata": {},
   "outputs": [],
   "source": []
  }
 ],
 "metadata": {
  "kernelspec": {
   "display_name": "Python (llm)",
   "language": "python",
   "name": "llm"
  },
  "language_info": {
   "codemirror_mode": {
    "name": "ipython",
    "version": 3
   },
   "file_extension": ".py",
   "mimetype": "text/x-python",
   "name": "python",
   "nbconvert_exporter": "python",
   "pygments_lexer": "ipython3",
   "version": "3.12.9"
  }
 },
 "nbformat": 4,
 "nbformat_minor": 4
}
